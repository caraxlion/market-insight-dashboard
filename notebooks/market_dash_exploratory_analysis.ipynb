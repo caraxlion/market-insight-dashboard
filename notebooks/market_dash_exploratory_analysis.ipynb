# Market Dashboard Exploratory Analysis Notebook
# Purpose: Prototype indicators and perform EDA on stock data

# --- 1. Imports ---
import pandas as pd
import numpy as np
import yfinance as yf
import matplotlib.pyplot as plt
import seaborn as sns
import plotly.graph_objects as go

# Optional: Configure visualizations
sns.set(style="darkgrid")
%matplotlib inline

# --- 2. Parameters ---
TICKER = "AAPL"
START_DATE = "2020-01-01"
END_DATE = "2024-12-31"

# --- 3. Load Data ---
df = yf.download(TICKER, start=START_DATE, end=END_DATE)
df.reset_index(inplace=True)
df.head()
